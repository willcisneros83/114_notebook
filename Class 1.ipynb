{
 "cells": [
  {
   "cell_type": "code",
   "execution_count": 2,
   "metadata": {},
   "outputs": [
    {
     "name": "stdout",
     "output_type": "stream",
     "text": [
      "h\n",
      "e\n",
      "l\n",
      "l\n",
      "o\n",
      " \n",
      "w\n",
      "o\n",
      "r\n",
      "l\n",
      "d\n"
     ]
    }
   ],
   "source": [
    "for letter in \"hello world\":\n",
    "    print(letter)"
   ]
  },
  {
   "cell_type": "code",
   "execution_count": null,
   "metadata": {},
   "outputs": [],
   "source": [
    "#char vs scar"
   ]
  },
  {
   "cell_type": "code",
   "execution_count": 6,
   "metadata": {},
   "outputs": [],
   "source": [
    "# define function sort_charachter <- parameters: list_of _characters:\n",
    "# swap _detected = True\n",
    "# loop until swapped detectd is False\n",
    "#    for each index in the range of the lenght of list_of _characters and store index temporarily in \"idx\":\n",
    "#      if the character at idx is greater than the charachter at indx+1:\n",
    "#   \n",
    "#      temp_var = char_list_a[idx]\n",
    "#      temp_var_2 = char_list_a[ inx+1 ]\n",
    "#      list_of _characters[idx] = temp_var_2\n",
    "#      list_of _characters[idx+1] = temp_var\n",
    "#   else:\n",
    "#      swap_detected is False\n",
    "# return list_of_characters\n",
    "\n",
    "\n",
    "# define function \"is_anagram\" <- paramaters: string_a, strin_b\n",
    "# if the length of sting_a is not equal to the length of strin_b; then\n",
    "#     return False\n",
    "# string_a = uppercase(string_a)\n",
    "# string_b = upeercase(string_b)\n",
    "# char_list_a = ()\n",
    "# char_list_b = ()\n",
    "# loop through every character in strin_a and store value temporarily in \"char_a\":\n",
    "#     append char_a to char_list\n",
    "# loop through every character in the sting_b aand stor value temporarily in \"char_b\"\n",
    "#      append char_b to char_list_b\n",
    "# char_list_a = sort_characters(char_list_a)\n",
    "# char_list_b = sort_characters(char_list_b)\n",
    "# return True if char_list_a is equal to char_list_b; False otherwise\n",
    "\n",
    "\n"
   ]
  },
  {
   "cell_type": "code",
   "execution_count": 8,
   "metadata": {},
   "outputs": [
    {
     "name": "stdout",
     "output_type": "stream",
     "text": [
      "65\n",
      "A\n"
     ]
    }
   ],
   "source": [
    "char_num = ord('A')\n",
    "print(char_num)\n",
    "\n",
    "print(chr(char_num))\n",
    "\n",
    "# convert strin_a to uppercase\n",
    "# convert string_b to uppercase"
   ]
  },
  {
   "cell_type": "code",
   "execution_count": 8,
   "metadata": {},
   "outputs": [],
   "source": [
    "def is_anagram(string_a, string_b):\n",
    "    if len(string_a) != len(string_b):\n",
    "        return False\n",
    "    char_times_a = dict()\n",
    "    char_times_b = dict()\n",
    "    for i in range(len(string_a)):\n",
    "        if string_a[i] not in char_times_a.keys():\n",
    "            char_times_a[string_a[i]] = 0\n",
    "        else:\n",
    "            char_times_a[string_a[i]] += 1\n",
    "        if string_b[i] not in char_times_b.keys():\n",
    "            char_times_b[string_b[i]] = 0\n",
    "        else:\n",
    "             char_times_b[string_b[i]] += 1\n",
    "    return char_times_a == char_times_b\n",
    "\n",
    "\n"
   ]
  },
  {
   "cell_type": "code",
   "execution_count": 10,
   "metadata": {},
   "outputs": [
    {
     "data": {
      "text/plain": [
       "True"
      ]
     },
     "execution_count": 10,
     "metadata": {},
     "output_type": "execute_result"
    }
   ],
   "source": [
    "is_anagram(\"cars\", \"scar\")"
   ]
  },
  {
   "cell_type": "code",
   "execution_count": 9,
   "metadata": {},
   "outputs": [
    {
     "data": {
      "text/plain": [
       "False"
      ]
     },
     "execution_count": 9,
     "metadata": {},
     "output_type": "execute_result"
    }
   ],
   "source": [
    "is_anagram(\"cars\", \"sccr\")"
   ]
  },
  {
   "cell_type": "code",
   "execution_count": 11,
   "metadata": {},
   "outputs": [
    {
     "data": {
      "text/plain": [
       "False"
      ]
     },
     "execution_count": 11,
     "metadata": {},
     "output_type": "execute_result"
    }
   ],
   "source": [
    "is_anagram(\"I an lord voldemort\", \"Tom Marvolo Riddle\")"
   ]
  },
  {
   "cell_type": "code",
   "execution_count": null,
   "metadata": {},
   "outputs": [],
   "source": []
  }
 ],
 "metadata": {
  "kernelspec": {
   "display_name": "Python 3",
   "language": "python",
   "name": "python3"
  },
  "language_info": {
   "codemirror_mode": {
    "name": "ipython",
    "version": 3
   },
   "file_extension": ".py",
   "mimetype": "text/x-python",
   "name": "python",
   "nbconvert_exporter": "python",
   "pygments_lexer": "ipython3",
   "version": "3.8.10"
  }
 },
 "nbformat": 4,
 "nbformat_minor": 5
}
