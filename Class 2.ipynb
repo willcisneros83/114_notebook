{
 "cells": [
  {
   "cell_type": "code",
   "execution_count": 1,
   "metadata": {},
   "outputs": [],
   "source": [
    "class Stack:\n",
    "    def __init__(self):\n",
    "        self.items = []\n",
    "     \n",
    "    def is_empty(self):\n",
    "        return self.items == []\n",
    "    \n",
    "    def push(self, item):\n",
    "        self.items.append(item)\n",
    "        \n",
    "    def pop(self):\n",
    "        return self.items.pop()\n",
    "    \n",
    "    def peek(self):\n",
    "        return self.items[len(self.items)-1]\n",
    "    \n",
    "    def size(self):\n",
    "        return len(self.items)"
   ]
  },
  {
   "cell_type": "code",
   "execution_count": 2,
   "metadata": {},
   "outputs": [],
   "source": [
    "# given a string: \"abcde\", invert it so the we get \"edcba\"\n",
    "# consraint: must usr the stack class above"
   ]
  },
  {
   "cell_type": "code",
   "execution_count": 3,
   "metadata": {},
   "outputs": [],
   "source": [
    "def invert_string(my_string):\n",
    "    stack = Stack()\n",
    "    for letter in my_string:\n",
    "        stack.push(letter)\n",
    "    out_str = \"\"\n",
    "    # loop until the stack is wmpty\n",
    "    # and append each character resultng from a pop operatation t \"out_str\"\n",
    "    while not stack_is_empty():\n",
    "        # out_str = out_str + stack.pop()\n",
    "        out_str += stack.pop()\n",
    "    return out_str\n",
    "   "
   ]
  },
  {
   "cell_type": "code",
   "execution_count": 4,
   "metadata": {},
   "outputs": [],
   "source": [
    "# invert(my_string) -> my_string = RAFA\n",
    "# line: create stack\n",
    "# first loop: iteration _1: letter = R; stack = ['R']\n",
    "# iteration_2: letter = A; stack = ['R', 'A']\n",
    "# iteration_3: letter = F; stack = ['R', 'A', F]\n",
    "# iteration_4 letter = A; stack = ['R', 'A', 'F', 'A']\n",
    "# on line 6: out_str=\"\"\n",
    "# second loop: iteration_1: stack not empty, so: out_str = 'A' ; stack = ['R', 'A', 'F']\n",
    "# iteration_2: stack not empty, so: out_str = 'AF' ; stack = ['R', 'A',]\n",
    "# iteration_1: stack not empty, so: out_str = 'AFA' ; stack = ['R',]\n",
    "# iteration_1: stack not empty, so: out_str = 'AFAR' ; stack = []\n",
    "# line 8: stack is empty to the while loop exits and we jump to line 11.\n",
    "# On line 11, we return our \"out_str\" variable which contains the inverted string."
   ]
  },
  {
   "cell_type": "code",
   "execution_count": null,
   "metadata": {},
   "outputs": [],
   "source": [
    "class\n",
    "def __init__(self):\n",
    "    self.items = []\n",
    "    \n",
    "    def is_empty(self):\n",
    "        return self.items == []\n",
    "    \n",
    "    def enqueue(self, item):\n",
    "        self.items.insert(0, item)\n",
    "        \n",
    "    def dequeue(self):\n",
    "        return self.items.pop()\n",
    "    \n",
    "    def size(self):\n",
    "        return len(self.items)"
   ]
  }
 ],
 "metadata": {
  "kernelspec": {
   "display_name": "Python 3",
   "language": "python",
   "name": "python3"
  },
  "language_info": {
   "codemirror_mode": {
    "name": "ipython",
    "version": 3
   },
   "file_extension": ".py",
   "mimetype": "text/x-python",
   "name": "python",
   "nbconvert_exporter": "python",
   "pygments_lexer": "ipython3",
   "version": "3.8.10"
  }
 },
 "nbformat": 4,
 "nbformat_minor": 4
}
