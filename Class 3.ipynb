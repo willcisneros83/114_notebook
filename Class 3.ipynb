{
 "cells": [
  {
   "cell_type": "markdown",
   "id": "bb3b6b6a",
   "metadata": {},
   "source": [
    "# Balanced parenthesis check\n",
    "\n",
    "given a string of opening and closing parentheses check wether it is balanced\n",
    "we have 3 types of parenthese round (), square [] and curly {}\n",
    "\n",
    "\n",
    "Assumptions Parameter soesnt contin any other characters othan these (no sces words or numbers\n",
    "\n",
    "Balances parentheses require every opnng ti be closed on the reverse rder opened\n",
    "\n",
    "##Examples: ({}) is balanced(}({ is not\n",
    "\n",
    "create a function called balance_check that takes a parameter s\n",
    "balance_check(\"()\") should return true\n"
   ]
  },
  {
   "cell_type": "code",
   "execution_count": 8,
   "id": "07f52cea",
   "metadata": {},
   "outputs": [],
   "source": [
    "# psuedo code to solve this problem\n",
    "#define functiom \"balance_check\" with parameters: s (string):\n",
    "# string_lenght = lenght_of(s)\n",
    "# if strin_lenght has an odd number of character:\n",
    "# return false\n",
    "# else \n",
    "# ie fisrt charachter is an openng parentheses blablabla\n",
    "# valid_mathces + [([,]),([,]),({,})]\n",
    "# keep track by color coding the code with different markers\n",
    "# stack = new stack() # create an instance of stack()\n",
    "# for each character in s:\n",
    "# if the charachter is in opening parantheses:\n",
    "# stack.push (character)\n",
    "#else: \n",
    "# last_parentheses = stack.pop()\n",
    "\n",
    "# if (last_parenthesses, charachter) not in valid_matches:\n",
    "#return Flase\n",
    "\n",
    "# return True if the stack is empty, False otherwise \n",
    "\n",
    "\n",
    "    \n",
    "class Stack:\n",
    "    def __init__(self):\n",
    "        self.items = []\n",
    "     \n",
    "    def is_empty(self):\n",
    "        return self.items == []\n",
    "    \n",
    "    def push(self, item):\n",
    "        self.items.append(item)\n",
    "        \n",
    "    def pop(self):\n",
    "        return self.items.pop()\n",
    "    \n",
    "    def peek(self):\n",
    "        return self.items[len(self.items)-1]\n",
    "    \n",
    "    def size(self):\n",
    "        return len(self.items)\n",
    "    \n",
    "def balance_check(s):\n",
    "    if len(s) % 2 == 0:\n",
    "        return False\n",
    "    stack = Stack()\n",
    "    open_paren = set(\"({[\")\n",
    "    valid_matches = set(\n",
    "        (\"(\", \")\"),\n",
    "        (\"[\", \"]\"),\n",
    "        (\"{\", \"}\"),\n",
    "        )\n",
    "    for character in s:\n",
    "        if character in open_paren:\n",
    "            stack.push(character)\n",
    "        else:\n",
    "            if stack.is_empty():\n",
    "                return False\n",
    "            last_open = stack.pop()\n",
    "            if (last_open, character) not in valid_matches:\n",
    "                return False\n",
    "        return stack.is_empty()\n",
    "\n",
    "\n",
    "    \n",
    "    \n",
    "    "
   ]
  },
  {
   "cell_type": "code",
   "execution_count": 9,
   "id": "3df1afb9",
   "metadata": {},
   "outputs": [
    {
     "ename": "AssertionError",
     "evalue": "",
     "output_type": "error",
     "traceback": [
      "\u001b[0;31m---------------------------------------------------------------------------\u001b[0m",
      "\u001b[0;31mAssertionError\u001b[0m                            Traceback (most recent call last)",
      "Input \u001b[0;32mIn [9]\u001b[0m, in \u001b[0;36m<cell line: 1>\u001b[0;34m()\u001b[0m\n\u001b[0;32m----> 1\u001b[0m \u001b[38;5;28;01massert\u001b[39;00m balance_check(\u001b[38;5;124m\"\u001b[39m\u001b[38;5;124m([\u001b[39m\u001b[38;5;124m{\u001b[39m\u001b[38;5;124m([\u001b[39m\u001b[38;5;132;01m{}\u001b[39;00m\u001b[38;5;124m])}])\u001b[39m\u001b[38;5;124m\"\u001b[39m) \u001b[38;5;241m==\u001b[39m \u001b[38;5;28;01mTrue\u001b[39;00m\n\u001b[1;32m      2\u001b[0m \u001b[38;5;28;01massert\u001b[39;00m balance_check(\u001b[38;5;124m\"\u001b[39m\u001b[38;5;124m([\u001b[39m\u001b[38;5;124m{\u001b[39m\u001b[38;5;124m([\u001b[39m\u001b[38;5;132;01m{}\u001b[39;00m\u001b[38;5;124m])}])\u001b[39m\u001b[38;5;124m\"\u001b[39m) \u001b[38;5;241m==\u001b[39m \u001b[38;5;28;01mFalse\u001b[39;00m\n\u001b[1;32m      3\u001b[0m \u001b[38;5;28;01massert\u001b[39;00m balance_check(\u001b[38;5;124m\"\u001b[39m\u001b[38;5;124m()()()[][][]\u001b[39m\u001b[38;5;132;01m{}\u001b[39;00m\u001b[38;5;132;01m{}\u001b[39;00m\u001b[38;5;132;01m{}\u001b[39;00m\u001b[38;5;124m\"\u001b[39m) \u001b[38;5;241m==\u001b[39m \u001b[38;5;28;01mTrue\u001b[39;00m\n",
      "\u001b[0;31mAssertionError\u001b[0m: "
     ]
    }
   ],
   "source": [
    "assert balance_check(\"([{([{}])}])\") == True\n",
    "assert balance_check(\"([{([{}])}])\") == False\n",
    "assert balance_check(\"()()()[][][]{}{}{}\") == True"
   ]
  },
  {
   "cell_type": "markdown",
   "id": "6dd2eac5",
   "metadata": {},
   "source": [
    "## Queue 2 stacks\n",
    "### Using two stacks create a queue\n",
    "#### Stacks are LIFO Queues are FIFO"
   ]
  },
  {
   "cell_type": "code",
   "execution_count": 11,
   "id": "c74c0043",
   "metadata": {},
   "outputs": [],
   "source": [
    "class Queue2Stacks:\n",
    "    def __init__(self):\n",
    "        self.in_stack = []\n",
    "        self.out_stack = []\n",
    "    \n",
    "    def enqueue(self, item):\n",
    "        self.in_stack.append(item)\n",
    "        \n",
    "    def dequeue(self):\n",
    "        if not self.out_stack:\n",
    "            while self.in_stack:\n",
    "                item = self.in_stack.pop()\n",
    "                self.out_stack.append(item)\n",
    "        return self.out_stack.pop()\n",
    "    \n",
    "    \n",
    "def test_queue2stacks():\n",
    "    queue = Queue2Stacks()\n",
    "    for i in range(5):\n",
    "        print(\"Addding %s to the queue.\" % i)\n",
    "        queue.enqueue(i)\n",
    "    for i in range(5):\n",
    "        current = queue.dequeue()\n",
    "        assert current == i\n",
    "        print(\"Got %s from queue which meets requirements.\" % current)\n",
    "        \n",
    "    print(\"TOK\")\n",
    "        \n",
    "        \n",
    "        \n",
    "        "
   ]
  },
  {
   "cell_type": "code",
   "execution_count": 12,
   "id": "39ec6790",
   "metadata": {},
   "outputs": [
    {
     "name": "stdout",
     "output_type": "stream",
     "text": [
      "Addding 0 to the queue.\n",
      "Addding 1 to the queue.\n",
      "Addding 2 to the queue.\n",
      "Addding 3 to the queue.\n",
      "Addding 4 to the queue.\n",
      "Got 0 from queue which meets requirements.\n",
      "Got 1 from queue which meets requirements.\n",
      "Got 2 from queue which meets requirements.\n",
      "Got 3 from queue which meets requirements.\n",
      "Got 4 from queue which meets requirements.\n",
      "TOK\n"
     ]
    }
   ],
   "source": [
    "test_queue2stacks()"
   ]
  },
  {
   "cell_type": "code",
   "execution_count": null,
   "id": "4d7c93ea",
   "metadata": {},
   "outputs": [],
   "source": []
  }
 ],
 "metadata": {
  "kernelspec": {
   "display_name": "Python 3 (ipykernel)",
   "language": "python",
   "name": "python3"
  },
  "language_info": {
   "codemirror_mode": {
    "name": "ipython",
    "version": 3
   },
   "file_extension": ".py",
   "mimetype": "text/x-python",
   "name": "python",
   "nbconvert_exporter": "python",
   "pygments_lexer": "ipython3",
   "version": "3.8.10"
  }
 },
 "nbformat": 4,
 "nbformat_minor": 5
}
